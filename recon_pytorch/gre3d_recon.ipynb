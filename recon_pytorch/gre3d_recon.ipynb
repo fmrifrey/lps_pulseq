{
 "cells": [
  {
   "cell_type": "code",
   "execution_count": 1,
   "metadata": {},
   "outputs": [
    {
     "name": "stdout",
     "output_type": "stream",
     "text": [
      "CUDA is available\n"
     ]
    }
   ],
   "source": [
    "# import packages\n",
    "import h5py\n",
    "import numpy as np\n",
    "import torch\n",
    "from mirtorch.linear import Sense, Diff3dgram\n",
    "from mirtorch.alg.cg import CG\n",
    "import os\n",
    "import sys\n",
    "\n",
    "# select device\n",
    "if torch.cuda.is_available():\n",
    "    print('CUDA is available')\n",
    "    device0 = torch.device('cuda:2')\n",
    "else:\n",
    "    print('CUDA is not available')\n",
    "    device0 = torch.device('cpu')"
   ]
  },
  {
   "cell_type": "code",
   "execution_count": null,
   "metadata": {},
   "outputs": [],
   "source": [
    "# load in the GRE data\n",
    "fname = '/home/djfrey/data/lps_fmri_20250331/gre.h5'\n",
    "\n",
    "with h5py.File(fname, 'r') as h5_file:\n",
    "    kdata = h5_file['kdata/real'][:] + 1j * h5_file['kdata/imag'][:] # kspace data\n",
    "    msk = h5_file['msk'][:] # sampling mask\n",
    "    fov = h5_file['seq_args/fov'][0][0] # fov (cm)\n",
    "    N = int(h5_file['seq_args/N'][0][0]) # 3D matrix size\n",
    "    Nacs = int(h5_file['seq_args/Nacs'][0][0]) # 3D matrix size\n",
    "    ncoil = int(h5_file['ncoil'][0][0]) # number of coils\n",
    "\n",
    "# reshape into tensors\n",
    "kdata = torch.tensor(kdata).reshape(1,ncoil,N,N,N) # C x Kz x Ky x Kx"
   ]
  },
  {
   "cell_type": "code",
   "execution_count": null,
   "metadata": {},
   "outputs": [],
   "source": [
    "# import BART toolbox\n",
    "bart_path = os.getenv('BART_TOOLBOX_PATH')\n",
    "if bart_path:\n",
    "    sys.path.append(os.path.join(bart_path, 'python'))\n",
    "else:\n",
    "    raise EnvironmentError(\"BART_TOOLBOX_PATH environment variable is not set\")\n",
    "from bart import bart\n",
    "\n",
    "# calculate the coil sensitivity maps\n",
    "smaps = bart(1, f'ecalib -b0 -m1 -r{Nacs}', kdata.squeeze(0).permute(3,2,1,0).numpy()) # X x Y x Z x C\n",
    "smaps = torch.tensor(smaps).permute(3,2,1,0) # C x Z x Y x X\n",
    "\n",
    "# save to h5 file in the same directory as fname\n",
    "output_path = os.path.join(os.path.dirname(fname), 'smaps.h5')\n",
    "with h5py.File(output_path, 'w') as smaps_h5:\n",
    "    smaps_h5.create_dataset('real', data=smaps.real.numpy())\n",
    "    smaps_h5.create_dataset('imag', data=smaps.imag.numpy())"
   ]
  }
 ],
 "metadata": {
  "kernelspec": {
   "display_name": "umlps_recon_env",
   "language": "python",
   "name": "python3"
  },
  "language_info": {
   "codemirror_mode": {
    "name": "ipython",
    "version": 3
   },
   "file_extension": ".py",
   "mimetype": "text/x-python",
   "name": "python",
   "nbconvert_exporter": "python",
   "pygments_lexer": "ipython3",
   "version": "3.12.9"
  }
 },
 "nbformat": 4,
 "nbformat_minor": 2
}
